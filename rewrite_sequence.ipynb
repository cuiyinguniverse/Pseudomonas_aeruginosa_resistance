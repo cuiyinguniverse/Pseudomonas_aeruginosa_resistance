{
 "cells": [
  {
   "cell_type": "markdown",
   "metadata": {},
   "source": [
    "# Writing the results of diamond blastp sequence alignment to a tab-separated values format file."
   ]
  },
  {
   "cell_type": "code",
   "execution_count": null,
   "metadata": {},
   "outputs": [],
   "source": [
    "import os\n",
    "\n",
    "protein_names = ['gyrA','gyrB','nfxB','mexR']\n",
    "for i in protein_names:\n",
    "    with open(\"/edisk2/yangh22/yxq_works/protein/complete_genome_level/{}.tsv\".format(i.strip()),\"w\") as F:\n",
    "        for dirs in os.listdir(\"/edisk2/yangh22/protein/ncbi_dataset/data\"):\n",
    "            with open(\"/edisk2/yangh22/protein/ncbi_dataset/data/{}/{}.blastp\".format(dirs,i.strip()),\"r\") as f:\n",
    "                for j in f.readlines():\n",
    "                    F.write(dirs + '\\t' + j)"
   ]
  },
  {
   "cell_type": "markdown",
   "metadata": {},
   "source": [
    "# Converting the tab-separated values format file to a comma-separated values format file, and adding comment tags to the diamond blastp results in the column on the first line."
   ]
  },
  {
   "cell_type": "code",
   "execution_count": null,
   "metadata": {},
   "outputs": [],
   "source": [
    "import csv\n",
    "\n",
    "protein_names = ['gyrA','gyrB','nfxB','mexR']\n",
    "for i in protein_names:\n",
    "    header = ['reference_genome_id','Query_accession_{}'.format(i.strip()),'Target_accession_{}'.format(i.strip()), \\\n",
    "              'Sequence_identity_{}'.format(i.strip()),'Length_{}'.format(i.strip()),'Mismatches_{}'.format(i.strip()),'Gap_openings_{}'.format(i.strip()), \\\n",
    "                'Query_start_{}'.format(i.strip()),'Query_end_{}'.format(i.strip()),'Target_start_{}'.format(i.strip()),'Target_end_{}'.format(i.strip()), \\\n",
    "                    'E_value_{}'.format(i.strip()),'Bit_score_{}'.format(i.strip())]\n",
    "    with open(\"/edisk2/yangh22/yxq_works/protein/complete_genome_level/{}.csv\".format(i.strip()),\"w\",encoding = 'utf-8',newline = '') as f:\n",
    "        writer = csv.writer(f)\n",
    "        writer.writerow(header)\n",
    "        with open(\"/edisk2/yangh22/yxq_works/protein/complete_genome_level/{}.tsv\".format(i.strip()),\"r\") as F:\n",
    "            list = [line.split() for line in F.readlines()]            \n",
    "            writer.writerows(list)"
   ]
  },
  {
   "cell_type": "markdown",
   "metadata": {},
   "source": [
    "# Calculating the mutation sequence and writing the result to a comma-separated values format file."
   ]
  },
  {
   "cell_type": "code",
   "execution_count": null,
   "metadata": {},
   "outputs": [],
   "source": [
    "import pandas as pd\n",
    "\n",
    "protein_names = ['gyrA','gyrB','nfxB','mexR']\n",
    "for i in protein_names:\n",
    "    data = pd.read_csv(\"/edisk2/yangh22/yxq_works/protein/complete_genome_level/{}.csv\".format(i.strip()))\n",
    "    j = []\n",
    "    for index,row in data.iterrows():\n",
    "        if row['Sequence_identity_{}'.format(i.strip())] < 100:\n",
    "            j.append(row['reference_genome_id'])\n",
    "    j_df = pd.DataFrame(j,columns=['reference_genome_id'])\n",
    "    j_df.to_csv(\"/edisk2/yangh22/yxq_works/protein/complete_genome_level/{}_mutation.csv\".format(i.strip()),index=False)"
   ]
  },
  {
   "cell_type": "markdown",
   "metadata": {},
   "source": [
    "# Rewriting the mutated sequence and reference sequence to a fasta format file, and placing the file in the same subdirectory as the mutated sequence."
   ]
  },
  {
   "cell_type": "code",
   "execution_count": null,
   "metadata": {},
   "outputs": [],
   "source": [
    "from Bio import SeqIO\n",
    "\n",
    "j = 0\n",
    "protein_names = ['gyrA','gyrB','nfxB','mexR']\n",
    "for k in protein_names:\n",
    "    with open(\"/edisk2/yangh22/yxq_works/protein/complete_genome_level/{}.csv\".format(k.strip()),\"r\") as H ,open(\"/edisk2/yangh22/{}.faa\".format(k.strip()),\"r\") as f:\n",
    "        source = SeqIO.read(f,\"fasta\")\n",
    "        for i in H.readlines()[:]:\n",
    "            file_input = r\"/edisk2/yangh22/protein/ncbi_dataset/data/{}/{}.blastp\".format(i.strip(),k.strip())\n",
    "            file_fasta = r\"/edisk2/yangh22/protein/ncbi_dataset/data/{}/protein.faa\".format(i.strip())\n",
    "            with open(file_input,\"r\") as h:\n",
    "                target_id = h.readlines()[0].split(\"\\t\")[1]\n",
    "                for fa in SeqIO.parse(file_fasta,\"fasta\"):\n",
    "                    if fa.id == target_id:\n",
    "                        my_records = []\n",
    "                        my_records.append(source)\n",
    "                        fa.id = i.strip() + \"|\"+ fa.id\n",
    "                        my_records.append(fa)\n",
    "                        j += 1\n",
    "                        SeqIO.write(my_records, r\"/edisk2/yangh22/protein/ncbi_dataset/data/{}/{}.fasta\".format(i.strip(),k.strip()),\"fasta\")"
   ]
  }
 ],
 "metadata": {
  "kernelspec": {
   "display_name": "Python 3",
   "language": "python",
   "name": "python3"
  },
  "language_info": {
   "name": "python",
   "version": "3.11.4"
  }
 },
 "nbformat": 4,
 "nbformat_minor": 2
}
