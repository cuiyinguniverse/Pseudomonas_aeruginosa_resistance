{
 "cells": [
  {
   "cell_type": "code",
   "execution_count": null,
   "metadata": {},
   "outputs": [],
   "source": [
    "#According to the sequence alignment results of clustalw2, calculating amino acid mutation sites, and writing to a comma-separated values format file.\n",
    "\n",
    "from Bio import AlignIO\n",
    "import pandas as pd\n",
    "\n",
    "def mutation_site(i):\n",
    "    zidian = {}\n",
    "    with open(\"/edisk2/yangh22/lm.csv\",\"r\") as g:\n",
    "        contents = g.readlines()\n",
    "        x = contents[0].replace(\"\\n\",\"\").strip()\n",
    "        y = contents[1].strip()\n",
    "        file_aln = \"/edisk2/yangh22/protein/ncbi_dataset/data/{}/gyrA.aln\".format(i.strip())\n",
    "        align = AlignIO.read(file_aln,\"clustal\")\n",
    "        a = align[0].id\n",
    "        b = align[1].id\n",
    "        c = align[0].seq\n",
    "        d = align[1].seq\n",
    "        zidian[a] = b\n",
    "        zipped = zip(c,d)\n",
    "        lj = []\n",
    "        lk = []\n",
    "        j = 0\n",
    "        for k in zipped:\n",
    "            j += 1\n",
    "            if k[0] != k[1]:\n",
    "                lj.append(j)\n",
    "                lk.append(k)\n",
    "                zidian[x] = lj\n",
    "                zidian[y] = lk\n",
    "    return zidian"
   ]
  },
  {
   "cell_type": "code",
   "execution_count": null,
   "metadata": {},
   "outputs": [],
   "source": [
    "if __name__ == '__main__' :\n",
    "    j = pd.DataFrame() \n",
    "    q = 0 \n",
    "    with open(\"/edisk2/yangh22/yxq_works/protein/complete_genome_level/gyrA_mutation.csv\",\"r\") as f:\n",
    "        m = f.readlines()\n",
    "        for i in f.readlines():\n",
    "            r = mutation_site(i)\n",
    "            df = pd.DataFrame([r])\n",
    "            q += 1    \n",
    "            if q <= len(m):\n",
    "                df = pd.concat([j,df], axis=0, join='outer', ignore_index=False)\n",
    "                df.to_csv(\"/edisk2/yangh22/yxq_works/protein/complete_genome_level/gyrA_mutation_site.csv\",mode=\"a\",index=False,header=False)"
   ]
  }
 ],
 "metadata": {
  "language_info": {
   "name": "python"
  }
 },
 "nbformat": 4,
 "nbformat_minor": 2
}
