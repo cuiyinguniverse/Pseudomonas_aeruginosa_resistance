{
 "cells": [
  {
   "cell_type": "code",
   "execution_count": null,
   "metadata": {},
   "outputs": [],
   "source": [
    "#Calculating the sequence at the assembly level of the 'Complete Genome'.\n",
    "\n",
    "with open(\"/edisk2/yangh22/1/data_summary.csv\",\"a\") as F:\n",
    "    with open(\"/edisk2/yangh22/1/data_summary.tsv\",\"r\") as f:\n",
    "        for i in f.readlines()[1:]:\n",
    "            if \"Complete Genome\" in i:\n",
    "                F.write(i.strip() + \"\\n\")"
   ]
  },
  {
   "cell_type": "code",
   "execution_count": null,
   "metadata": {},
   "outputs": [],
   "source": [
    "#Renaming file 'data_summary.csv' to 'completegenome.csv'.\n",
    "\n",
    "with open(\"/edisk2/yangh22/1/completegenome.csv\",\"a\") as F:\n",
    "    with open(\"/edisk2/yangh22/1/data_summary.csv\",\"r\") as f:\n",
    "        for i in f.readlines():\n",
    "            F.write(i.strip() + \"\\n\")"
   ]
  },
  {
   "cell_type": "code",
   "execution_count": null,
   "metadata": {},
   "outputs": [],
   "source": [
    "#Calculating the sequence of mutation at position 83 of GyrA.\n",
    "\n",
    "import pandas as pd\n",
    "\n",
    "data = pd.read_csv(\"/edisk2/yangh22/yxq_works/protein/complete_genome_level/gyrA_mutation_site.csv\")\n",
    "j = []\n",
    "for index,row in data.iterrows():\n",
    "    if ('83' in row['mutation_site']):\n",
    "        j.append(row['assembly_accession'])\n",
    "j_df = pd.DataFrame(j,columns=['assembly_accession'])\n",
    "j_df.to_csv(\"/edisk2/yangh22/yxq_works/protein/complete_genome_level/gyrA_83_mutation.csv\",index=False)"
   ]
  },
  {
   "cell_type": "code",
   "execution_count": null,
   "metadata": {},
   "outputs": [],
   "source": [
    "#According to the calculated gyrA 83 mutation sequence, the site information of gyrA 83 mutation was extracted from all gyrA mutation sequences.\n",
    "\n",
    "def a():\n",
    "    \n",
    "    with open(\"/edisk2/yangh22/yxq_works/protein/complete_genome_level/gyrA_83_mutation.csv\",\"r\") as f:\n",
    "        list = [i.strip() for i in f.readlines()] \n",
    "    return list\n",
    "\n",
    "if __name__ == '__main__' :\n",
    "    \n",
    "    with open(\"/edisk2/yangh22/yxq_works/protein/complete_genome_level/gyrA_mutation_at_position_83.csv\",\"a\") as F:\n",
    "        F.writelines(\"assembly_accession\" + \",\" + \"protein_id\" + \",\" + \"mutation_site\" + \",\" + \"amino_acid_change\" + \"\\n\")\n",
    "        with open(\"/edisk2/yangh22/yxq_works/protein/complete_genome_level/gyrA_mutation_site.csv\",\"r\") as g:\n",
    "            for j in g.readlines()[1:]:\n",
    "                if (j.split(\",\")[0] in a()):\n",
    "                    F.write(j.strip() + \"\\n\")"
   ]
  },
  {
   "cell_type": "code",
   "execution_count": null,
   "metadata": {},
   "outputs": [],
   "source": [
    "#Calculating the enrichment of the sequence with mutation at position 83 of gyrA in clinical and non-clinical.\n",
    "\n",
    "def clinical():\n",
    "\n",
    "    with open(\"/edisk2/yangh22/clinical.csv\",\"r\") as f:\n",
    "        list = [i.split(\",\")[-1].strip() for i in f.readlines()] \n",
    "    return list\n",
    "\n",
    "if __name__ == '__main__' :\n",
    "    \n",
    "    with open(\"/edisk2/yangh22/yxq_works/protein/complete_genome_level/gyrA_mutation_at_position_83_in_clinical.csv\",\"a\") as F:\n",
    "        F.writelines(\"assembly_accession\" + \",\" + \"protein_id\" + \",\" + \"mutation_site\" + \",\" + \"amino_acid_change\" + \"\\n\")\n",
    "        with open(\"/edisk2/yangh22/yxq_works/protein/complete_genome_level/gyrA_mutation_at_position_83.csv\",\"r\") as g:\n",
    "            for j in g.readlines()[1:]:\n",
    "                if (j.split(\",\")[0].strip() in clinical()):\n",
    "                    F.write(j.strip() + \"\\n\")"
   ]
  }
 ],
 "metadata": {
  "kernelspec": {
   "display_name": "Python 3",
   "language": "python",
   "name": "python3"
  },
  "language_info": {
   "name": "python",
   "version": "3.11.4"
  }
 },
 "nbformat": 4,
 "nbformat_minor": 2
}
