{
 "cells": [
  {
   "cell_type": "code",
   "execution_count": null,
   "metadata": {},
   "outputs": [],
   "source": [
    "#diamond makedatabase\n",
    "\n",
    "import os\n",
    "\n",
    "for dirs in os.listdir(\"/edisk2/yangh22/protein/ncbi_dataset/data\"):\n",
    "    mdb = r\"diamond makedb --in /edisk2/yangh22/protein/ncbi_dataset/data/{}/*.faa --db /edisk2/yangh22/protein/ncbi_dataset/data/{}/prot_database\".format(dirs,dirs)\n",
    "    os.system(mdb)"
   ]
  },
  {
   "cell_type": "code",
   "execution_count": null,
   "metadata": {},
   "outputs": [],
   "source": [
    "#diamond blastp\n",
    "\n",
    "for dirs in os.listdir(\"/edisk2/yangh22/protein/ncbi_dataset/data\"):\n",
    "    blastp = r\"/data/anaconda3/envs/diamond/bin/diamond blastp --query ./GyrA.faa --db /edisk2/yangh22/protein/ncbi_dataset/data/{}/prot_database.dmnd --out /edisk2/yangh22/protein/ncbi_dataset/data/{}/GyrA.blastp --query-cover 80 --id 0 --outfmt 6 --evalue 1e-5 -k 1\".format(dirs,dirs)\n",
    "    os.system(blastp)"
   ]
  }
 ],
 "metadata": {
  "kernelspec": {
   "display_name": "Python 3",
   "language": "python",
   "name": "python3"
  },
  "language_info": {
   "name": "python",
   "version": "3.11.4"
  }
 },
 "nbformat": 4,
 "nbformat_minor": 2
}
